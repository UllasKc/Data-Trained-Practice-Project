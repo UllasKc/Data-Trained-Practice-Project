{
 "cells": [
  {
   "cell_type": "markdown",
   "metadata": {},
   "source": [
    "# Big Data Mart Sales Problem"
   ]
  },
  {
   "cell_type": "markdown",
   "metadata": {},
   "source": [
    "## Data Set Information:"
   ]
  },
  {
   "cell_type": "markdown",
   "metadata": {},
   "source": [
    "The data scientists at BigMart have collected 2013 sales data for 1559 products across 10 stores in different cities. Also, certain attributes of each product and store have been defined. The aim is to build a predictive model and find out the sales of each product at a particular store.\n",
    "\n",
    "Using this model, BigMart will try to understand the properties of products and stores which play a key role in increasing the sales of their products."
   ]
  },
  {
   "cell_type": "markdown",
   "metadata": {},
   "source": [
    "## Importing the required libraries:"
   ]
  },
  {
   "cell_type": "code",
   "execution_count": 472,
   "metadata": {},
   "outputs": [],
   "source": [
    "import pandas as pd\n",
    "import numpy as np\n",
    "import seaborn as sns\n",
    "import matplotlib.pyplot as plt\n",
    "import sklearn\n",
    "from sklearn.model_selection import train_test_split,cross_val_score,GridSearchCV,RandomizedSearchCV\n",
    "from sklearn.ensemble import RandomForestRegressor,AdaBoostRegressor\n",
    "from sklearn.linear_model import LinearRegression,ElasticNet\n",
    "from sklearn.svm import SVR\n",
    "from sklearn.tree import DecisionTreeRegressor\n",
    "from sklearn.neighbors import KNeighborsRegressor\n",
    "from sklearn.metrics import mean_absolute_error,mean_squared_error,r2_score\n",
    "from sklearn.preprocessing import MinMaxScaler,power_transform,LabelEncoder,OrdinalEncoder\n",
    "from scipy.stats import zscore\n",
    "import warnings\n",
    "warnings.filterwarnings('ignore')"
   ]
  },
  {
   "cell_type": "markdown",
   "metadata": {},
   "source": [
    "## Loading the dataset:"
   ]
  },
  {
   "cell_type": "code",
   "execution_count": 473,
   "metadata": {},
   "outputs": [],
   "source": [
    "import pandas as pd\n",
    "train_dataset = pd.read_csv('bigmart_train.csv')\n",
    "test_dataset = pd.read_csv('bigmart_test.csv')"
   ]
  },
  {
   "cell_type": "code",
   "execution_count": 474,
   "metadata": {},
   "outputs": [
    {
     "data": {
      "text/html": [
       "<div>\n",
       "<style scoped>\n",
       "    .dataframe tbody tr th:only-of-type {\n",
       "        vertical-align: middle;\n",
       "    }\n",
       "\n",
       "    .dataframe tbody tr th {\n",
       "        vertical-align: top;\n",
       "    }\n",
       "\n",
       "    .dataframe thead th {\n",
       "        text-align: right;\n",
       "    }\n",
       "</style>\n",
       "<table border=\"1\" class=\"dataframe\">\n",
       "  <thead>\n",
       "    <tr style=\"text-align: right;\">\n",
       "      <th></th>\n",
       "      <th>Item_Identifier</th>\n",
       "      <th>Item_Weight</th>\n",
       "      <th>Item_Fat_Content</th>\n",
       "      <th>Item_Visibility</th>\n",
       "      <th>Item_Type</th>\n",
       "      <th>Item_MRP</th>\n",
       "      <th>Outlet_Identifier</th>\n",
       "      <th>Outlet_Establishment_Year</th>\n",
       "      <th>Outlet_Size</th>\n",
       "      <th>Outlet_Location_Type</th>\n",
       "      <th>Outlet_Type</th>\n",
       "      <th>Item_Outlet_Sales</th>\n",
       "    </tr>\n",
       "  </thead>\n",
       "  <tbody>\n",
       "    <tr>\n",
       "      <td>0</td>\n",
       "      <td>FDA15</td>\n",
       "      <td>9.30</td>\n",
       "      <td>Low Fat</td>\n",
       "      <td>0.016047</td>\n",
       "      <td>Dairy</td>\n",
       "      <td>249.8092</td>\n",
       "      <td>OUT049</td>\n",
       "      <td>1999</td>\n",
       "      <td>Medium</td>\n",
       "      <td>Tier 1</td>\n",
       "      <td>Supermarket Type1</td>\n",
       "      <td>3735.1380</td>\n",
       "    </tr>\n",
       "    <tr>\n",
       "      <td>1</td>\n",
       "      <td>DRC01</td>\n",
       "      <td>5.92</td>\n",
       "      <td>Regular</td>\n",
       "      <td>0.019278</td>\n",
       "      <td>Soft Drinks</td>\n",
       "      <td>48.2692</td>\n",
       "      <td>OUT018</td>\n",
       "      <td>2009</td>\n",
       "      <td>Medium</td>\n",
       "      <td>Tier 3</td>\n",
       "      <td>Supermarket Type2</td>\n",
       "      <td>443.4228</td>\n",
       "    </tr>\n",
       "    <tr>\n",
       "      <td>2</td>\n",
       "      <td>FDN15</td>\n",
       "      <td>17.50</td>\n",
       "      <td>Low Fat</td>\n",
       "      <td>0.016760</td>\n",
       "      <td>Meat</td>\n",
       "      <td>141.6180</td>\n",
       "      <td>OUT049</td>\n",
       "      <td>1999</td>\n",
       "      <td>Medium</td>\n",
       "      <td>Tier 1</td>\n",
       "      <td>Supermarket Type1</td>\n",
       "      <td>2097.2700</td>\n",
       "    </tr>\n",
       "    <tr>\n",
       "      <td>3</td>\n",
       "      <td>FDX07</td>\n",
       "      <td>19.20</td>\n",
       "      <td>Regular</td>\n",
       "      <td>0.000000</td>\n",
       "      <td>Fruits and Vegetables</td>\n",
       "      <td>182.0950</td>\n",
       "      <td>OUT010</td>\n",
       "      <td>1998</td>\n",
       "      <td>NaN</td>\n",
       "      <td>Tier 3</td>\n",
       "      <td>Grocery Store</td>\n",
       "      <td>732.3800</td>\n",
       "    </tr>\n",
       "    <tr>\n",
       "      <td>4</td>\n",
       "      <td>NCD19</td>\n",
       "      <td>8.93</td>\n",
       "      <td>Low Fat</td>\n",
       "      <td>0.000000</td>\n",
       "      <td>Household</td>\n",
       "      <td>53.8614</td>\n",
       "      <td>OUT013</td>\n",
       "      <td>1987</td>\n",
       "      <td>High</td>\n",
       "      <td>Tier 3</td>\n",
       "      <td>Supermarket Type1</td>\n",
       "      <td>994.7052</td>\n",
       "    </tr>\n",
       "  </tbody>\n",
       "</table>\n",
       "</div>"
      ],
      "text/plain": [
       "  Item_Identifier  Item_Weight Item_Fat_Content  Item_Visibility  \\\n",
       "0           FDA15         9.30          Low Fat         0.016047   \n",
       "1           DRC01         5.92          Regular         0.019278   \n",
       "2           FDN15        17.50          Low Fat         0.016760   \n",
       "3           FDX07        19.20          Regular         0.000000   \n",
       "4           NCD19         8.93          Low Fat         0.000000   \n",
       "\n",
       "               Item_Type  Item_MRP Outlet_Identifier  \\\n",
       "0                  Dairy  249.8092            OUT049   \n",
       "1            Soft Drinks   48.2692            OUT018   \n",
       "2                   Meat  141.6180            OUT049   \n",
       "3  Fruits and Vegetables  182.0950            OUT010   \n",
       "4              Household   53.8614            OUT013   \n",
       "\n",
       "   Outlet_Establishment_Year Outlet_Size Outlet_Location_Type  \\\n",
       "0                       1999      Medium               Tier 1   \n",
       "1                       2009      Medium               Tier 3   \n",
       "2                       1999      Medium               Tier 1   \n",
       "3                       1998         NaN               Tier 3   \n",
       "4                       1987        High               Tier 3   \n",
       "\n",
       "         Outlet_Type  Item_Outlet_Sales  \n",
       "0  Supermarket Type1          3735.1380  \n",
       "1  Supermarket Type2           443.4228  \n",
       "2  Supermarket Type1          2097.2700  \n",
       "3      Grocery Store           732.3800  \n",
       "4  Supermarket Type1           994.7052  "
      ]
     },
     "execution_count": 474,
     "metadata": {},
     "output_type": "execute_result"
    }
   ],
   "source": [
    "train_dataset.head()"
   ]
  },
  {
   "cell_type": "code",
   "execution_count": 475,
   "metadata": {},
   "outputs": [
    {
     "data": {
      "text/html": [
       "<div>\n",
       "<style scoped>\n",
       "    .dataframe tbody tr th:only-of-type {\n",
       "        vertical-align: middle;\n",
       "    }\n",
       "\n",
       "    .dataframe tbody tr th {\n",
       "        vertical-align: top;\n",
       "    }\n",
       "\n",
       "    .dataframe thead th {\n",
       "        text-align: right;\n",
       "    }\n",
       "</style>\n",
       "<table border=\"1\" class=\"dataframe\">\n",
       "  <thead>\n",
       "    <tr style=\"text-align: right;\">\n",
       "      <th></th>\n",
       "      <th>Item_Identifier</th>\n",
       "      <th>Item_Weight</th>\n",
       "      <th>Item_Fat_Content</th>\n",
       "      <th>Item_Visibility</th>\n",
       "      <th>Item_Type</th>\n",
       "      <th>Item_MRP</th>\n",
       "      <th>Outlet_Identifier</th>\n",
       "      <th>Outlet_Establishment_Year</th>\n",
       "      <th>Outlet_Size</th>\n",
       "      <th>Outlet_Location_Type</th>\n",
       "      <th>Outlet_Type</th>\n",
       "    </tr>\n",
       "  </thead>\n",
       "  <tbody>\n",
       "    <tr>\n",
       "      <td>0</td>\n",
       "      <td>FDW58</td>\n",
       "      <td>20.750</td>\n",
       "      <td>Low Fat</td>\n",
       "      <td>0.007565</td>\n",
       "      <td>Snack Foods</td>\n",
       "      <td>107.8622</td>\n",
       "      <td>OUT049</td>\n",
       "      <td>1999</td>\n",
       "      <td>Medium</td>\n",
       "      <td>Tier 1</td>\n",
       "      <td>Supermarket Type1</td>\n",
       "    </tr>\n",
       "    <tr>\n",
       "      <td>1</td>\n",
       "      <td>FDW14</td>\n",
       "      <td>8.300</td>\n",
       "      <td>reg</td>\n",
       "      <td>0.038428</td>\n",
       "      <td>Dairy</td>\n",
       "      <td>87.3198</td>\n",
       "      <td>OUT017</td>\n",
       "      <td>2007</td>\n",
       "      <td>NaN</td>\n",
       "      <td>Tier 2</td>\n",
       "      <td>Supermarket Type1</td>\n",
       "    </tr>\n",
       "    <tr>\n",
       "      <td>2</td>\n",
       "      <td>NCN55</td>\n",
       "      <td>14.600</td>\n",
       "      <td>Low Fat</td>\n",
       "      <td>0.099575</td>\n",
       "      <td>Others</td>\n",
       "      <td>241.7538</td>\n",
       "      <td>OUT010</td>\n",
       "      <td>1998</td>\n",
       "      <td>NaN</td>\n",
       "      <td>Tier 3</td>\n",
       "      <td>Grocery Store</td>\n",
       "    </tr>\n",
       "    <tr>\n",
       "      <td>3</td>\n",
       "      <td>FDQ58</td>\n",
       "      <td>7.315</td>\n",
       "      <td>Low Fat</td>\n",
       "      <td>0.015388</td>\n",
       "      <td>Snack Foods</td>\n",
       "      <td>155.0340</td>\n",
       "      <td>OUT017</td>\n",
       "      <td>2007</td>\n",
       "      <td>NaN</td>\n",
       "      <td>Tier 2</td>\n",
       "      <td>Supermarket Type1</td>\n",
       "    </tr>\n",
       "    <tr>\n",
       "      <td>4</td>\n",
       "      <td>FDY38</td>\n",
       "      <td>NaN</td>\n",
       "      <td>Regular</td>\n",
       "      <td>0.118599</td>\n",
       "      <td>Dairy</td>\n",
       "      <td>234.2300</td>\n",
       "      <td>OUT027</td>\n",
       "      <td>1985</td>\n",
       "      <td>Medium</td>\n",
       "      <td>Tier 3</td>\n",
       "      <td>Supermarket Type3</td>\n",
       "    </tr>\n",
       "  </tbody>\n",
       "</table>\n",
       "</div>"
      ],
      "text/plain": [
       "  Item_Identifier  Item_Weight Item_Fat_Content  Item_Visibility    Item_Type  \\\n",
       "0           FDW58       20.750          Low Fat         0.007565  Snack Foods   \n",
       "1           FDW14        8.300              reg         0.038428        Dairy   \n",
       "2           NCN55       14.600          Low Fat         0.099575       Others   \n",
       "3           FDQ58        7.315          Low Fat         0.015388  Snack Foods   \n",
       "4           FDY38          NaN          Regular         0.118599        Dairy   \n",
       "\n",
       "   Item_MRP Outlet_Identifier  Outlet_Establishment_Year Outlet_Size  \\\n",
       "0  107.8622            OUT049                       1999      Medium   \n",
       "1   87.3198            OUT017                       2007         NaN   \n",
       "2  241.7538            OUT010                       1998         NaN   \n",
       "3  155.0340            OUT017                       2007         NaN   \n",
       "4  234.2300            OUT027                       1985      Medium   \n",
       "\n",
       "  Outlet_Location_Type        Outlet_Type  \n",
       "0               Tier 1  Supermarket Type1  \n",
       "1               Tier 2  Supermarket Type1  \n",
       "2               Tier 3      Grocery Store  \n",
       "3               Tier 2  Supermarket Type1  \n",
       "4               Tier 3  Supermarket Type3  "
      ]
     },
     "execution_count": 475,
     "metadata": {},
     "output_type": "execute_result"
    }
   ],
   "source": [
    "test_dataset.head()"
   ]
  },
  {
   "cell_type": "code",
   "execution_count": 476,
   "metadata": {},
   "outputs": [
    {
     "data": {
      "text/plain": [
       "(8523, 12)"
      ]
     },
     "execution_count": 476,
     "metadata": {},
     "output_type": "execute_result"
    }
   ],
   "source": [
    "train_dataset.shape"
   ]
  },
  {
   "cell_type": "markdown",
   "metadata": {},
   "source": [
    "We have target variable in train dataset"
   ]
  },
  {
   "cell_type": "code",
   "execution_count": 477,
   "metadata": {},
   "outputs": [
    {
     "data": {
      "text/plain": [
       "(5681, 11)"
      ]
     },
     "execution_count": 477,
     "metadata": {},
     "output_type": "execute_result"
    }
   ],
   "source": [
    "test_dataset.shape"
   ]
  },
  {
   "cell_type": "markdown",
   "metadata": {},
   "source": [
    "No target variable in test dataset"
   ]
  },
  {
   "cell_type": "markdown",
   "metadata": {},
   "source": [
    "### Lets combine these datasets for data preprocessing"
   ]
  },
  {
   "cell_type": "code",
   "execution_count": 478,
   "metadata": {},
   "outputs": [
    {
     "data": {
      "text/html": [
       "<div>\n",
       "<style scoped>\n",
       "    .dataframe tbody tr th:only-of-type {\n",
       "        vertical-align: middle;\n",
       "    }\n",
       "\n",
       "    .dataframe tbody tr th {\n",
       "        vertical-align: top;\n",
       "    }\n",
       "\n",
       "    .dataframe thead th {\n",
       "        text-align: right;\n",
       "    }\n",
       "</style>\n",
       "<table border=\"1\" class=\"dataframe\">\n",
       "  <thead>\n",
       "    <tr style=\"text-align: right;\">\n",
       "      <th></th>\n",
       "      <th>Item_Fat_Content</th>\n",
       "      <th>Item_Identifier</th>\n",
       "      <th>Item_MRP</th>\n",
       "      <th>Item_Outlet_Sales</th>\n",
       "      <th>Item_Type</th>\n",
       "      <th>Item_Visibility</th>\n",
       "      <th>Item_Weight</th>\n",
       "      <th>Outlet_Establishment_Year</th>\n",
       "      <th>Outlet_Identifier</th>\n",
       "      <th>Outlet_Location_Type</th>\n",
       "      <th>Outlet_Size</th>\n",
       "      <th>Outlet_Type</th>\n",
       "      <th>Temp</th>\n",
       "    </tr>\n",
       "  </thead>\n",
       "  <tbody>\n",
       "    <tr>\n",
       "      <td>0</td>\n",
       "      <td>Low Fat</td>\n",
       "      <td>FDA15</td>\n",
       "      <td>249.8092</td>\n",
       "      <td>3735.1380</td>\n",
       "      <td>Dairy</td>\n",
       "      <td>0.016047</td>\n",
       "      <td>9.30</td>\n",
       "      <td>1999</td>\n",
       "      <td>OUT049</td>\n",
       "      <td>Tier 1</td>\n",
       "      <td>Medium</td>\n",
       "      <td>Supermarket Type1</td>\n",
       "      <td>Train</td>\n",
       "    </tr>\n",
       "    <tr>\n",
       "      <td>1</td>\n",
       "      <td>Regular</td>\n",
       "      <td>DRC01</td>\n",
       "      <td>48.2692</td>\n",
       "      <td>443.4228</td>\n",
       "      <td>Soft Drinks</td>\n",
       "      <td>0.019278</td>\n",
       "      <td>5.92</td>\n",
       "      <td>2009</td>\n",
       "      <td>OUT018</td>\n",
       "      <td>Tier 3</td>\n",
       "      <td>Medium</td>\n",
       "      <td>Supermarket Type2</td>\n",
       "      <td>Train</td>\n",
       "    </tr>\n",
       "    <tr>\n",
       "      <td>2</td>\n",
       "      <td>Low Fat</td>\n",
       "      <td>FDN15</td>\n",
       "      <td>141.6180</td>\n",
       "      <td>2097.2700</td>\n",
       "      <td>Meat</td>\n",
       "      <td>0.016760</td>\n",
       "      <td>17.50</td>\n",
       "      <td>1999</td>\n",
       "      <td>OUT049</td>\n",
       "      <td>Tier 1</td>\n",
       "      <td>Medium</td>\n",
       "      <td>Supermarket Type1</td>\n",
       "      <td>Train</td>\n",
       "    </tr>\n",
       "    <tr>\n",
       "      <td>3</td>\n",
       "      <td>Regular</td>\n",
       "      <td>FDX07</td>\n",
       "      <td>182.0950</td>\n",
       "      <td>732.3800</td>\n",
       "      <td>Fruits and Vegetables</td>\n",
       "      <td>0.000000</td>\n",
       "      <td>19.20</td>\n",
       "      <td>1998</td>\n",
       "      <td>OUT010</td>\n",
       "      <td>Tier 3</td>\n",
       "      <td>NaN</td>\n",
       "      <td>Grocery Store</td>\n",
       "      <td>Train</td>\n",
       "    </tr>\n",
       "    <tr>\n",
       "      <td>4</td>\n",
       "      <td>Low Fat</td>\n",
       "      <td>NCD19</td>\n",
       "      <td>53.8614</td>\n",
       "      <td>994.7052</td>\n",
       "      <td>Household</td>\n",
       "      <td>0.000000</td>\n",
       "      <td>8.93</td>\n",
       "      <td>1987</td>\n",
       "      <td>OUT013</td>\n",
       "      <td>Tier 3</td>\n",
       "      <td>High</td>\n",
       "      <td>Supermarket Type1</td>\n",
       "      <td>Train</td>\n",
       "    </tr>\n",
       "    <tr>\n",
       "      <td>...</td>\n",
       "      <td>...</td>\n",
       "      <td>...</td>\n",
       "      <td>...</td>\n",
       "      <td>...</td>\n",
       "      <td>...</td>\n",
       "      <td>...</td>\n",
       "      <td>...</td>\n",
       "      <td>...</td>\n",
       "      <td>...</td>\n",
       "      <td>...</td>\n",
       "      <td>...</td>\n",
       "      <td>...</td>\n",
       "      <td>...</td>\n",
       "    </tr>\n",
       "    <tr>\n",
       "      <td>14199</td>\n",
       "      <td>Regular</td>\n",
       "      <td>FDB58</td>\n",
       "      <td>141.3154</td>\n",
       "      <td>NaN</td>\n",
       "      <td>Snack Foods</td>\n",
       "      <td>0.013496</td>\n",
       "      <td>10.50</td>\n",
       "      <td>1997</td>\n",
       "      <td>OUT046</td>\n",
       "      <td>Tier 1</td>\n",
       "      <td>Small</td>\n",
       "      <td>Supermarket Type1</td>\n",
       "      <td>Test</td>\n",
       "    </tr>\n",
       "    <tr>\n",
       "      <td>14200</td>\n",
       "      <td>Regular</td>\n",
       "      <td>FDD47</td>\n",
       "      <td>169.1448</td>\n",
       "      <td>NaN</td>\n",
       "      <td>Starchy Foods</td>\n",
       "      <td>0.142991</td>\n",
       "      <td>7.60</td>\n",
       "      <td>2009</td>\n",
       "      <td>OUT018</td>\n",
       "      <td>Tier 3</td>\n",
       "      <td>Medium</td>\n",
       "      <td>Supermarket Type2</td>\n",
       "      <td>Test</td>\n",
       "    </tr>\n",
       "    <tr>\n",
       "      <td>14201</td>\n",
       "      <td>Low Fat</td>\n",
       "      <td>NCO17</td>\n",
       "      <td>118.7440</td>\n",
       "      <td>NaN</td>\n",
       "      <td>Health and Hygiene</td>\n",
       "      <td>0.073529</td>\n",
       "      <td>10.00</td>\n",
       "      <td>2002</td>\n",
       "      <td>OUT045</td>\n",
       "      <td>Tier 2</td>\n",
       "      <td>NaN</td>\n",
       "      <td>Supermarket Type1</td>\n",
       "      <td>Test</td>\n",
       "    </tr>\n",
       "    <tr>\n",
       "      <td>14202</td>\n",
       "      <td>Regular</td>\n",
       "      <td>FDJ26</td>\n",
       "      <td>214.6218</td>\n",
       "      <td>NaN</td>\n",
       "      <td>Canned</td>\n",
       "      <td>0.000000</td>\n",
       "      <td>15.30</td>\n",
       "      <td>2007</td>\n",
       "      <td>OUT017</td>\n",
       "      <td>Tier 2</td>\n",
       "      <td>NaN</td>\n",
       "      <td>Supermarket Type1</td>\n",
       "      <td>Test</td>\n",
       "    </tr>\n",
       "    <tr>\n",
       "      <td>14203</td>\n",
       "      <td>Regular</td>\n",
       "      <td>FDU37</td>\n",
       "      <td>79.7960</td>\n",
       "      <td>NaN</td>\n",
       "      <td>Canned</td>\n",
       "      <td>0.104720</td>\n",
       "      <td>9.50</td>\n",
       "      <td>2002</td>\n",
       "      <td>OUT045</td>\n",
       "      <td>Tier 2</td>\n",
       "      <td>NaN</td>\n",
       "      <td>Supermarket Type1</td>\n",
       "      <td>Test</td>\n",
       "    </tr>\n",
       "  </tbody>\n",
       "</table>\n",
       "<p>14204 rows × 13 columns</p>\n",
       "</div>"
      ],
      "text/plain": [
       "      Item_Fat_Content Item_Identifier  Item_MRP  Item_Outlet_Sales  \\\n",
       "0              Low Fat           FDA15  249.8092          3735.1380   \n",
       "1              Regular           DRC01   48.2692           443.4228   \n",
       "2              Low Fat           FDN15  141.6180          2097.2700   \n",
       "3              Regular           FDX07  182.0950           732.3800   \n",
       "4              Low Fat           NCD19   53.8614           994.7052   \n",
       "...                ...             ...       ...                ...   \n",
       "14199          Regular           FDB58  141.3154                NaN   \n",
       "14200          Regular           FDD47  169.1448                NaN   \n",
       "14201          Low Fat           NCO17  118.7440                NaN   \n",
       "14202          Regular           FDJ26  214.6218                NaN   \n",
       "14203          Regular           FDU37   79.7960                NaN   \n",
       "\n",
       "                   Item_Type  Item_Visibility  Item_Weight  \\\n",
       "0                      Dairy         0.016047         9.30   \n",
       "1                Soft Drinks         0.019278         5.92   \n",
       "2                       Meat         0.016760        17.50   \n",
       "3      Fruits and Vegetables         0.000000        19.20   \n",
       "4                  Household         0.000000         8.93   \n",
       "...                      ...              ...          ...   \n",
       "14199            Snack Foods         0.013496        10.50   \n",
       "14200          Starchy Foods         0.142991         7.60   \n",
       "14201     Health and Hygiene         0.073529        10.00   \n",
       "14202                 Canned         0.000000        15.30   \n",
       "14203                 Canned         0.104720         9.50   \n",
       "\n",
       "       Outlet_Establishment_Year Outlet_Identifier Outlet_Location_Type  \\\n",
       "0                           1999            OUT049               Tier 1   \n",
       "1                           2009            OUT018               Tier 3   \n",
       "2                           1999            OUT049               Tier 1   \n",
       "3                           1998            OUT010               Tier 3   \n",
       "4                           1987            OUT013               Tier 3   \n",
       "...                          ...               ...                  ...   \n",
       "14199                       1997            OUT046               Tier 1   \n",
       "14200                       2009            OUT018               Tier 3   \n",
       "14201                       2002            OUT045               Tier 2   \n",
       "14202                       2007            OUT017               Tier 2   \n",
       "14203                       2002            OUT045               Tier 2   \n",
       "\n",
       "      Outlet_Size        Outlet_Type   Temp  \n",
       "0          Medium  Supermarket Type1  Train  \n",
       "1          Medium  Supermarket Type2  Train  \n",
       "2          Medium  Supermarket Type1  Train  \n",
       "3             NaN      Grocery Store  Train  \n",
       "4            High  Supermarket Type1  Train  \n",
       "...           ...                ...    ...  \n",
       "14199       Small  Supermarket Type1   Test  \n",
       "14200      Medium  Supermarket Type2   Test  \n",
       "14201         NaN  Supermarket Type1   Test  \n",
       "14202         NaN  Supermarket Type1   Test  \n",
       "14203         NaN  Supermarket Type1   Test  \n",
       "\n",
       "[14204 rows x 13 columns]"
      ]
     },
     "execution_count": 478,
     "metadata": {},
     "output_type": "execute_result"
    }
   ],
   "source": [
    "#lets make temperory column called temp which will show train and test dataset in future.\n",
    "train_dataset['Temp']=\"Train\"\n",
    "test_dataset['Temp']=\"Test\"\n",
    "df = pd.concat([train_dataset,test_dataset],ignore_index=True)\n",
    "df"
   ]
  },
  {
   "cell_type": "markdown",
   "metadata": {},
   "source": [
    "## EDA (Exploratory Data Analysis)"
   ]
  },
  {
   "cell_type": "code",
   "execution_count": 479,
   "metadata": {},
   "outputs": [
    {
     "data": {
      "text/plain": [
       "(14204, 13)"
      ]
     },
     "execution_count": 479,
     "metadata": {},
     "output_type": "execute_result"
    }
   ],
   "source": [
    "df.shape"
   ]
  },
  {
   "cell_type": "markdown",
   "metadata": {},
   "source": [
    "Now we have 14204 rows and 13 columns"
   ]
  },
  {
   "cell_type": "code",
   "execution_count": 480,
   "metadata": {},
   "outputs": [
    {
     "data": {
      "text/plain": [
       "Index(['Item_Fat_Content', 'Item_Identifier', 'Item_MRP', 'Item_Outlet_Sales',\n",
       "       'Item_Type', 'Item_Visibility', 'Item_Weight',\n",
       "       'Outlet_Establishment_Year', 'Outlet_Identifier',\n",
       "       'Outlet_Location_Type', 'Outlet_Size', 'Outlet_Type', 'Temp'],\n",
       "      dtype='object')"
      ]
     },
     "execution_count": 480,
     "metadata": {},
     "output_type": "execute_result"
    }
   ],
   "source": [
    "df.columns"
   ]
  },
  {
   "cell_type": "code",
   "execution_count": 481,
   "metadata": {},
   "outputs": [
    {
     "data": {
      "text/plain": [
       "Item_Fat_Content              object\n",
       "Item_Identifier               object\n",
       "Item_MRP                     float64\n",
       "Item_Outlet_Sales            float64\n",
       "Item_Type                     object\n",
       "Item_Visibility              float64\n",
       "Item_Weight                  float64\n",
       "Outlet_Establishment_Year      int64\n",
       "Outlet_Identifier             object\n",
       "Outlet_Location_Type          object\n",
       "Outlet_Size                   object\n",
       "Outlet_Type                   object\n",
       "Temp                          object\n",
       "dtype: object"
      ]
     },
     "execution_count": 481,
     "metadata": {},
     "output_type": "execute_result"
    }
   ],
   "source": [
    "df.dtypes"
   ]
  },
  {
   "cell_type": "markdown",
   "metadata": {},
   "source": [
    "Some columns are Float datatype and some are object which needs to be converted"
   ]
  },
  {
   "cell_type": "code",
   "execution_count": 482,
   "metadata": {},
   "outputs": [
    {
     "name": "stdout",
     "output_type": "stream",
     "text": [
      "NCV06    10\n",
      "FDQ04    10\n",
      "FDG09    10\n",
      "FDQ37    10\n",
      "FDZ44    10\n",
      "         ..\n",
      "FDO33     7\n",
      "FDL50     7\n",
      "FDR51     7\n",
      "NCW54     7\n",
      "FDM50     7\n",
      "Name: Item_Identifier, Length: 1559, dtype: int64\n"
     ]
    }
   ],
   "source": [
    "#Lets chcek unique values in each columns\n",
    "print(df.Item_Identifier.value_counts())"
   ]
  },
  {
   "cell_type": "markdown",
   "metadata": {},
   "source": [
    "There are 1559 unique items in this coulmn and also it is object column, hence it can be removed"
   ]
  },
  {
   "cell_type": "markdown",
   "metadata": {},
   "source": [
    "## Handing Null Values"
   ]
  },
  {
   "cell_type": "code",
   "execution_count": 483,
   "metadata": {},
   "outputs": [
    {
     "data": {
      "text/plain": [
       "Item_Fat_Content                0\n",
       "Item_Identifier                 0\n",
       "Item_MRP                        0\n",
       "Item_Outlet_Sales            5681\n",
       "Item_Type                       0\n",
       "Item_Visibility                 0\n",
       "Item_Weight                  2439\n",
       "Outlet_Establishment_Year       0\n",
       "Outlet_Identifier               0\n",
       "Outlet_Location_Type            0\n",
       "Outlet_Size                  4016\n",
       "Outlet_Type                     0\n",
       "Temp                            0\n",
       "dtype: int64"
      ]
     },
     "execution_count": 483,
     "metadata": {},
     "output_type": "execute_result"
    }
   ],
   "source": [
    "df.isnull().sum()"
   ]
  },
  {
   "cell_type": "markdown",
   "metadata": {},
   "source": [
    "In Item_Outlet_Sales  we have 5681 null values because there was no target variable in Test data, lets leave it"
   ]
  },
  {
   "cell_type": "markdown",
   "metadata": {},
   "source": [
    "Item_weight colum can be replaced with mean or meadian based on distribution"
   ]
  },
  {
   "cell_type": "markdown",
   "metadata": {},
   "source": [
    "Outliet_Size column can be replaced with mode"
   ]
  },
  {
   "cell_type": "code",
   "execution_count": 484,
   "metadata": {},
   "outputs": [
    {
     "data": {
      "image/png": "[encoded data removed]",
      "text/plain": [
       "<Figure size 432x288 with 1 Axes>"
      ]
     },
     "metadata": {
      "needs_background": "light"
     },
     "output_type": "display_data"
    }
   ],
   "source": [
    "df.Item_Weight.plot(kind = 'hist')\n",
    "plt.show()"
   ]
  },
  {
   "cell_type": "code",
   "execution_count": 485,
   "metadata": {},
   "outputs": [],
   "source": [
    "#Item_Weight is float datatype, so lets replace null values with with mean since the data is normal distributed\n",
    "df['Item_Weight'] = df['Item_Weight'].fillna(df['Item_Weight'].mean())\n"
   ]
  },
  {
   "cell_type": "code",
   "execution_count": 486,
   "metadata": {},
   "outputs": [
    {
     "data": {
      "text/plain": [
       "'Medium'"
      ]
     },
     "execution_count": 486,
     "metadata": {},
     "output_type": "execute_result"
    }
   ],
   "source": [
    "#Outletsize is a Object type column, so lets replace nan values with mode\n",
    "x = df['Outlet_Size'].mode()\n",
    "mode = x[0]\n",
    "mode"
   ]
  },
  {
   "cell_type": "code",
   "execution_count": 487,
   "metadata": {},
   "outputs": [],
   "source": [
    "df['Outlet_Size'] = df['Outlet_Size'].fillna(mode)"
   ]
  },
  {
   "cell_type": "code",
   "execution_count": 488,
   "metadata": {},
   "outputs": [
    {
     "data": {
      "text/plain": [
       "Item_Fat_Content                0\n",
       "Item_Identifier                 0\n",
       "Item_MRP                        0\n",
       "Item_Outlet_Sales            5681\n",
       "Item_Type                       0\n",
       "Item_Visibility                 0\n",
       "Item_Weight                     0\n",
       "Outlet_Establishment_Year       0\n",
       "Outlet_Identifier               0\n",
       "Outlet_Location_Type            0\n",
       "Outlet_Size                     0\n",
       "Outlet_Type                     0\n",
       "Temp                            0\n",
       "dtype: int64"
      ]
     },
     "execution_count": 488,
     "metadata": {},
     "output_type": "execute_result"
    }
   ],
   "source": [
    "df.isnull().sum()"
   ]
  },
  {
   "cell_type": "markdown",
   "metadata": {},
   "source": [
    "Now there are no null values in this dataset"
   ]
  },
  {
   "cell_type": "markdown",
   "metadata": {},
   "source": [
    "### Checking for unique values"
   ]
  },
  {
   "cell_type": "code",
   "execution_count": 489,
   "metadata": {},
   "outputs": [
    {
     "data": {
      "text/plain": [
       "Index(['Item_Fat_Content', 'Item_Identifier', 'Item_MRP', 'Item_Outlet_Sales',\n",
       "       'Item_Type', 'Item_Visibility', 'Item_Weight',\n",
       "       'Outlet_Establishment_Year', 'Outlet_Identifier',\n",
       "       'Outlet_Location_Type', 'Outlet_Size', 'Outlet_Type', 'Temp'],\n",
       "      dtype='object')"
      ]
     },
     "execution_count": 489,
     "metadata": {},
     "output_type": "execute_result"
    }
   ],
   "source": [
    "df.columns"
   ]
  },
  {
   "cell_type": "code",
   "execution_count": 490,
   "metadata": {},
   "outputs": [
    {
     "data": {
      "text/plain": [
       "array(['Low Fat', 'Regular', 'low fat', 'LF', 'reg'], dtype=object)"
      ]
     },
     "execution_count": 490,
     "metadata": {},
     "output_type": "execute_result"
    }
   ],
   "source": [
    "#we can see that  5 values, but there are only two in factual \n",
    "pd.unique(df.Item_Fat_Content)"
   ]
  },
  {
   "cell_type": "markdown",
   "metadata": {},
   "source": [
    "Low Fat, low fat and LF are same\n",
    "\n",
    "Regualar and  reg are same"
   ]
  },
  {
   "cell_type": "code",
   "execution_count": 491,
   "metadata": {},
   "outputs": [],
   "source": [
    "#lets replace them\n",
    "df[\"Item_Fat_Content\"].replace(\"low fat\",\"Low Fat\",inplace=True)\n",
    "df[\"Item_Fat_Content\"].replace(\"LF\",\"Low Fat\",inplace=True)\n",
    "df[\"Item_Fat_Content\"].replace(\"reg\",\"Regular\",inplace=True)"
   ]
  },
  {
   "cell_type": "code",
   "execution_count": 492,
   "metadata": {},
   "outputs": [
    {
     "data": {
      "text/plain": [
       "array(['Low Fat', 'Regular'], dtype=object)"
      ]
     },
     "execution_count": 492,
     "metadata": {},
     "output_type": "execute_result"
    }
   ],
   "source": [
    "pd.unique(df.Item_Fat_Content)"
   ]
  },
  {
   "cell_type": "markdown",
   "metadata": {},
   "source": [
    "Now we have only two unique values for Item_Fat_COntent column"
   ]
  },
  {
   "cell_type": "markdown",
   "metadata": {},
   "source": [
    "### Removing Unnecessary Columns"
   ]
  },
  {
   "cell_type": "code",
   "execution_count": 493,
   "metadata": {},
   "outputs": [
    {
     "name": "stdout",
     "output_type": "stream",
     "text": [
      "['FDA15' 'DRC01' 'FDN15' ... 'NCF55' 'NCW30' 'NCW05']\n"
     ]
    },
    {
     "data": {
      "text/plain": [
       "1559"
      ]
     },
     "execution_count": 493,
     "metadata": {},
     "output_type": "execute_result"
    }
   ],
   "source": [
    "#we can drop Item_Identifier column since is not usefull in taget value prediction, it is object dattype with 1559 unique values\n",
    "x = pd.unique(df.Item_Identifier)\n",
    "print(x)\n",
    "len(x)"
   ]
  },
  {
   "cell_type": "code",
   "execution_count": 494,
   "metadata": {},
   "outputs": [
    {
     "name": "stdout",
     "output_type": "stream",
     "text": [
      "['OUT049' 'OUT018' 'OUT010' 'OUT013' 'OUT027' 'OUT045' 'OUT017' 'OUT046'\n",
      " 'OUT035' 'OUT019']\n"
     ]
    },
    {
     "data": {
      "text/plain": [
       "10"
      ]
     },
     "execution_count": 494,
     "metadata": {},
     "output_type": "execute_result"
    }
   ],
   "source": [
    "#This is just like the name of the outletwhich is not useful\n",
    "#we can also drop  Outlet_Identifier column since is not usefull in taget value prediction, it is object dattype with 10 unique values\n",
    "x = pd.unique(df.Item_Identifier)\n",
    "x = pd.unique(df.Outlet_Identifier)\n",
    "print(x)\n",
    "len(x)"
   ]
  },
  {
   "cell_type": "code",
   "execution_count": 495,
   "metadata": {},
   "outputs": [
    {
     "data": {
      "text/html": [
       "<div>\n",
       "<style scoped>\n",
       "    .dataframe tbody tr th:only-of-type {\n",
       "        vertical-align: middle;\n",
       "    }\n",
       "\n",
       "    .dataframe tbody tr th {\n",
       "        vertical-align: top;\n",
       "    }\n",
       "\n",
       "    .dataframe thead th {\n",
       "        text-align: right;\n",
       "    }\n",
       "</style>\n",
       "<table border=\"1\" class=\"dataframe\">\n",
       "  <thead>\n",
       "    <tr style=\"text-align: right;\">\n",
       "      <th></th>\n",
       "      <th>Item_Fat_Content</th>\n",
       "      <th>Item_MRP</th>\n",
       "      <th>Item_Outlet_Sales</th>\n",
       "      <th>Item_Type</th>\n",
       "      <th>Item_Visibility</th>\n",
       "      <th>Item_Weight</th>\n",
       "      <th>Outlet_Establishment_Year</th>\n",
       "      <th>Outlet_Location_Type</th>\n",
       "      <th>Outlet_Size</th>\n",
       "      <th>Outlet_Type</th>\n",
       "      <th>Temp</th>\n",
       "    </tr>\n",
       "  </thead>\n",
       "  <tbody>\n",
       "    <tr>\n",
       "      <td>0</td>\n",
       "      <td>Low Fat</td>\n",
       "      <td>249.8092</td>\n",
       "      <td>3735.1380</td>\n",
       "      <td>Dairy</td>\n",
       "      <td>0.016047</td>\n",
       "      <td>9.30</td>\n",
       "      <td>1999</td>\n",
       "      <td>Tier 1</td>\n",
       "      <td>Medium</td>\n",
       "      <td>Supermarket Type1</td>\n",
       "      <td>Train</td>\n",
       "    </tr>\n",
       "    <tr>\n",
       "      <td>1</td>\n",
       "      <td>Regular</td>\n",
       "      <td>48.2692</td>\n",
       "      <td>443.4228</td>\n",
       "      <td>Soft Drinks</td>\n",
       "      <td>0.019278</td>\n",
       "      <td>5.92</td>\n",
       "      <td>2009</td>\n",
       "      <td>Tier 3</td>\n",
       "      <td>Medium</td>\n",
       "      <td>Supermarket Type2</td>\n",
       "      <td>Train</td>\n",
       "    </tr>\n",
       "    <tr>\n",
       "      <td>2</td>\n",
       "      <td>Low Fat</td>\n",
       "      <td>141.6180</td>\n",
       "      <td>2097.2700</td>\n",
       "      <td>Meat</td>\n",
       "      <td>0.016760</td>\n",
       "      <td>17.50</td>\n",
       "      <td>1999</td>\n",
       "      <td>Tier 1</td>\n",
       "      <td>Medium</td>\n",
       "      <td>Supermarket Type1</td>\n",
       "      <td>Train</td>\n",
       "    </tr>\n",
       "    <tr>\n",
       "      <td>3</td>\n",
       "      <td>Regular</td>\n",
       "      <td>182.0950</td>\n",
       "      <td>732.3800</td>\n",
       "      <td>Fruits and Vegetables</td>\n",
       "      <td>0.000000</td>\n",
       "      <td>19.20</td>\n",
       "      <td>1998</td>\n",
       "      <td>Tier 3</td>\n",
       "      <td>Medium</td>\n",
       "      <td>Grocery Store</td>\n",
       "      <td>Train</td>\n",
       "    </tr>\n",
       "    <tr>\n",
       "      <td>4</td>\n",
       "      <td>Low Fat</td>\n",
       "      <td>53.8614</td>\n",
       "      <td>994.7052</td>\n",
       "      <td>Household</td>\n",
       "      <td>0.000000</td>\n",
       "      <td>8.93</td>\n",
       "      <td>1987</td>\n",
       "      <td>Tier 3</td>\n",
       "      <td>High</td>\n",
       "      <td>Supermarket Type1</td>\n",
       "      <td>Train</td>\n",
       "    </tr>\n",
       "  </tbody>\n",
       "</table>\n",
       "</div>"
      ],
      "text/plain": [
       "  Item_Fat_Content  Item_MRP  Item_Outlet_Sales              Item_Type  \\\n",
       "0          Low Fat  249.8092          3735.1380                  Dairy   \n",
       "1          Regular   48.2692           443.4228            Soft Drinks   \n",
       "2          Low Fat  141.6180          2097.2700                   Meat   \n",
       "3          Regular  182.0950           732.3800  Fruits and Vegetables   \n",
       "4          Low Fat   53.8614           994.7052              Household   \n",
       "\n",
       "   Item_Visibility  Item_Weight  Outlet_Establishment_Year  \\\n",
       "0         0.016047         9.30                       1999   \n",
       "1         0.019278         5.92                       2009   \n",
       "2         0.016760        17.50                       1999   \n",
       "3         0.000000        19.20                       1998   \n",
       "4         0.000000         8.93                       1987   \n",
       "\n",
       "  Outlet_Location_Type Outlet_Size        Outlet_Type   Temp  \n",
       "0               Tier 1      Medium  Supermarket Type1  Train  \n",
       "1               Tier 3      Medium  Supermarket Type2  Train  \n",
       "2               Tier 1      Medium  Supermarket Type1  Train  \n",
       "3               Tier 3      Medium      Grocery Store  Train  \n",
       "4               Tier 3        High  Supermarket Type1  Train  "
      ]
     },
     "execution_count": 495,
     "metadata": {},
     "output_type": "execute_result"
    }
   ],
   "source": [
    "#lets drop the unwanted columns\n",
    "df.drop(['Item_Identifier','Outlet_Identifier'], axis = 1,inplace =True)\n",
    "df.head()"
   ]
  },
  {
   "cell_type": "code",
   "execution_count": null,
   "metadata": {},
   "outputs": [],
   "source": []
  },
  {
   "cell_type": "markdown",
   "metadata": {},
   "source": [
    "## Feature Engineering"
   ]
  },
  {
   "cell_type": "markdown",
   "metadata": {},
   "source": [
    "#### we can use establishment year column to extract information of from how many years the outlets is Running till 2013."
   ]
  },
  {
   "cell_type": "code",
   "execution_count": 496,
   "metadata": {},
   "outputs": [],
   "source": [
    "#Also we can covert outlet establishment year to howold is outlet\n",
    "df['Outlet_Establishment_Year'] = 2013- df['Outlet_Establishment_Year']\n"
   ]
  },
  {
   "cell_type": "code",
   "execution_count": 497,
   "metadata": {},
   "outputs": [],
   "source": [
    "#Lets change the name of the column after extracting the using data\n",
    "df.rename(columns = {'Outlet_Establishment_Year': 'Outlet_Age_till_2013'},inplace=True)"
   ]
  },
  {
   "cell_type": "code",
   "execution_count": 498,
   "metadata": {},
   "outputs": [
    {
     "data": {
      "text/html": [
       "<div>\n",
       "<style scoped>\n",
       "    .dataframe tbody tr th:only-of-type {\n",
       "        vertical-align: middle;\n",
       "    }\n",
       "\n",
       "    .dataframe tbody tr th {\n",
       "        vertical-align: top;\n",
       "    }\n",
       "\n",
       "    .dataframe thead th {\n",
       "        text-align: right;\n",
       "    }\n",
       "</style>\n",
       "<table border=\"1\" class=\"dataframe\">\n",
       "  <thead>\n",
       "    <tr style=\"text-align: right;\">\n",
       "      <th></th>\n",
       "      <th>Item_Fat_Content</th>\n",
       "      <th>Item_MRP</th>\n",
       "      <th>Item_Outlet_Sales</th>\n",
       "      <th>Item_Type</th>\n",
       "      <th>Item_Visibility</th>\n",
       "      <th>Item_Weight</th>\n",
       "      <th>Outlet_Age_till_2013</th>\n",
       "      <th>Outlet_Location_Type</th>\n",
       "      <th>Outlet_Size</th>\n",
       "      <th>Outlet_Type</th>\n",
       "      <th>Temp</th>\n",
       "    </tr>\n",
       "  </thead>\n",
       "  <tbody>\n",
       "    <tr>\n",
       "      <td>0</td>\n",
       "      <td>Low Fat</td>\n",
       "      <td>249.8092</td>\n",
       "      <td>3735.1380</td>\n",
       "      <td>Dairy</td>\n",
       "      <td>0.016047</td>\n",
       "      <td>9.30</td>\n",
       "      <td>14</td>\n",
       "      <td>Tier 1</td>\n",
       "      <td>Medium</td>\n",
       "      <td>Supermarket Type1</td>\n",
       "      <td>Train</td>\n",
       "    </tr>\n",
       "    <tr>\n",
       "      <td>1</td>\n",
       "      <td>Regular</td>\n",
       "      <td>48.2692</td>\n",
       "      <td>443.4228</td>\n",
       "      <td>Soft Drinks</td>\n",
       "      <td>0.019278</td>\n",
       "      <td>5.92</td>\n",
       "      <td>4</td>\n",
       "      <td>Tier 3</td>\n",
       "      <td>Medium</td>\n",
       "      <td>Supermarket Type2</td>\n",
       "      <td>Train</td>\n",
       "    </tr>\n",
       "    <tr>\n",
       "      <td>2</td>\n",
       "      <td>Low Fat</td>\n",
       "      <td>141.6180</td>\n",
       "      <td>2097.2700</td>\n",
       "      <td>Meat</td>\n",
       "      <td>0.016760</td>\n",
       "      <td>17.50</td>\n",
       "      <td>14</td>\n",
       "      <td>Tier 1</td>\n",
       "      <td>Medium</td>\n",
       "      <td>Supermarket Type1</td>\n",
       "      <td>Train</td>\n",
       "    </tr>\n",
       "    <tr>\n",
       "      <td>3</td>\n",
       "      <td>Regular</td>\n",
       "      <td>182.0950</td>\n",
       "      <td>732.3800</td>\n",
       "      <td>Fruits and Vegetables</td>\n",
       "      <td>0.000000</td>\n",
       "      <td>19.20</td>\n",
       "      <td>15</td>\n",
       "      <td>Tier 3</td>\n",
       "      <td>Medium</td>\n",
       "      <td>Grocery Store</td>\n",
       "      <td>Train</td>\n",
       "    </tr>\n",
       "    <tr>\n",
       "      <td>4</td>\n",
       "      <td>Low Fat</td>\n",
       "      <td>53.8614</td>\n",
       "      <td>994.7052</td>\n",
       "      <td>Household</td>\n",
       "      <td>0.000000</td>\n",
       "      <td>8.93</td>\n",
       "      <td>26</td>\n",
       "      <td>Tier 3</td>\n",
       "      <td>High</td>\n",
       "      <td>Supermarket Type1</td>\n",
       "      <td>Train</td>\n",
       "    </tr>\n",
       "  </tbody>\n",
       "</table>\n",
       "</div>"
      ],
      "text/plain": [
       "  Item_Fat_Content  Item_MRP  Item_Outlet_Sales              Item_Type  \\\n",
       "0          Low Fat  249.8092          3735.1380                  Dairy   \n",
       "1          Regular   48.2692           443.4228            Soft Drinks   \n",
       "2          Low Fat  141.6180          2097.2700                   Meat   \n",
       "3          Regular  182.0950           732.3800  Fruits and Vegetables   \n",
       "4          Low Fat   53.8614           994.7052              Household   \n",
       "\n",
       "   Item_Visibility  Item_Weight  Outlet_Age_till_2013 Outlet_Location_Type  \\\n",
       "0         0.016047         9.30                    14               Tier 1   \n",
       "1         0.019278         5.92                     4               Tier 3   \n",
       "2         0.016760        17.50                    14               Tier 1   \n",
       "3         0.000000        19.20                    15               Tier 3   \n",
       "4         0.000000         8.93                    26               Tier 3   \n",
       "\n",
       "  Outlet_Size        Outlet_Type   Temp  \n",
       "0      Medium  Supermarket Type1  Train  \n",
       "1      Medium  Supermarket Type2  Train  \n",
       "2      Medium  Supermarket Type1  Train  \n",
       "3      Medium      Grocery Store  Train  \n",
       "4        High  Supermarket Type1  Train  "
      ]
     },
     "execution_count": 498,
     "metadata": {},
     "output_type": "execute_result"
    }
   ],
   "source": [
    "df.head()"
   ]
  },
  {
   "cell_type": "markdown",
   "metadata": {},
   "source": [
    "### Encoding the Object Datatype columns"
   ]
  },
  {
   "cell_type": "code",
   "execution_count": 499,
   "metadata": {},
   "outputs": [
    {
     "data": {
      "text/plain": [
       "Item_Fat_Content         object\n",
       "Item_MRP                float64\n",
       "Item_Outlet_Sales       float64\n",
       "Item_Type                object\n",
       "Item_Visibility         float64\n",
       "Item_Weight             float64\n",
       "Outlet_Age_till_2013      int64\n",
       "Outlet_Location_Type     object\n",
       "Outlet_Size              object\n",
       "Outlet_Type              object\n",
       "Temp                     object\n",
       "dtype: object"
      ]
     },
     "execution_count": 499,
     "metadata": {},
     "output_type": "execute_result"
    }
   ],
   "source": [
    "df.dtypes\n"
   ]
  },
  {
   "cell_type": "code",
   "execution_count": 500,
   "metadata": {},
   "outputs": [],
   "source": [
    "#lets use ordinal encoding \n",
    "collist = df.columns\n",
    "encoding = OrdinalEncoder()\n",
    "\n",
    "#lets exclude our last column Temp which is created check Train and test\n",
    "for i in collist[:-1]:\n",
    "    if df[i].dtypes == 'object':\n",
    "        df[i] = encoding.fit_transform(df[i].values.reshape(-1,1))"
   ]
  },
  {
   "cell_type": "code",
   "execution_count": 501,
   "metadata": {},
   "outputs": [
    {
     "data": {
      "text/plain": [
       "Item_Fat_Content        float64\n",
       "Item_MRP                float64\n",
       "Item_Outlet_Sales       float64\n",
       "Item_Type               float64\n",
       "Item_Visibility         float64\n",
       "Item_Weight             float64\n",
       "Outlet_Age_till_2013      int64\n",
       "Outlet_Location_Type    float64\n",
       "Outlet_Size             float64\n",
       "Outlet_Type             float64\n",
       "Temp                     object\n",
       "dtype: object"
      ]
     },
     "execution_count": 501,
     "metadata": {},
     "output_type": "execute_result"
    }
   ],
   "source": [
    "#Now all the data is either int or float\n",
    "df.dtypes"
   ]
  },
  {
   "cell_type": "markdown",
   "metadata": {},
   "source": [
    "Now all the columns are coverted float, except Temp column which will be removed further steps"
   ]
  },
  {
   "cell_type": "code",
   "execution_count": 502,
   "metadata": {},
   "outputs": [
    {
     "data": {
      "text/html": [
       "<div>\n",
       "<style scoped>\n",
       "    .dataframe tbody tr th:only-of-type {\n",
       "        vertical-align: middle;\n",
       "    }\n",
       "\n",
       "    .dataframe tbody tr th {\n",
       "        vertical-align: top;\n",
       "    }\n",
       "\n",
       "    .dataframe thead th {\n",
       "        text-align: right;\n",
       "    }\n",
       "</style>\n",
       "<table border=\"1\" class=\"dataframe\">\n",
       "  <thead>\n",
       "    <tr style=\"text-align: right;\">\n",
       "      <th></th>\n",
       "      <th>Item_Fat_Content</th>\n",
       "      <th>Item_MRP</th>\n",
       "      <th>Item_Outlet_Sales</th>\n",
       "      <th>Item_Type</th>\n",
       "      <th>Item_Visibility</th>\n",
       "      <th>Item_Weight</th>\n",
       "      <th>Outlet_Age_till_2013</th>\n",
       "      <th>Outlet_Location_Type</th>\n",
       "      <th>Outlet_Size</th>\n",
       "      <th>Outlet_Type</th>\n",
       "      <th>Temp</th>\n",
       "    </tr>\n",
       "  </thead>\n",
       "  <tbody>\n",
       "    <tr>\n",
       "      <td>0</td>\n",
       "      <td>0.0</td>\n",
       "      <td>249.8092</td>\n",
       "      <td>3735.1380</td>\n",
       "      <td>4.0</td>\n",
       "      <td>0.016047</td>\n",
       "      <td>9.30</td>\n",
       "      <td>14</td>\n",
       "      <td>0.0</td>\n",
       "      <td>1.0</td>\n",
       "      <td>1.0</td>\n",
       "      <td>Train</td>\n",
       "    </tr>\n",
       "    <tr>\n",
       "      <td>1</td>\n",
       "      <td>1.0</td>\n",
       "      <td>48.2692</td>\n",
       "      <td>443.4228</td>\n",
       "      <td>14.0</td>\n",
       "      <td>0.019278</td>\n",
       "      <td>5.92</td>\n",
       "      <td>4</td>\n",
       "      <td>2.0</td>\n",
       "      <td>1.0</td>\n",
       "      <td>2.0</td>\n",
       "      <td>Train</td>\n",
       "    </tr>\n",
       "    <tr>\n",
       "      <td>2</td>\n",
       "      <td>0.0</td>\n",
       "      <td>141.6180</td>\n",
       "      <td>2097.2700</td>\n",
       "      <td>10.0</td>\n",
       "      <td>0.016760</td>\n",
       "      <td>17.50</td>\n",
       "      <td>14</td>\n",
       "      <td>0.0</td>\n",
       "      <td>1.0</td>\n",
       "      <td>1.0</td>\n",
       "      <td>Train</td>\n",
       "    </tr>\n",
       "    <tr>\n",
       "      <td>3</td>\n",
       "      <td>1.0</td>\n",
       "      <td>182.0950</td>\n",
       "      <td>732.3800</td>\n",
       "      <td>6.0</td>\n",
       "      <td>0.000000</td>\n",
       "      <td>19.20</td>\n",
       "      <td>15</td>\n",
       "      <td>2.0</td>\n",
       "      <td>1.0</td>\n",
       "      <td>0.0</td>\n",
       "      <td>Train</td>\n",
       "    </tr>\n",
       "    <tr>\n",
       "      <td>4</td>\n",
       "      <td>0.0</td>\n",
       "      <td>53.8614</td>\n",
       "      <td>994.7052</td>\n",
       "      <td>9.0</td>\n",
       "      <td>0.000000</td>\n",
       "      <td>8.93</td>\n",
       "      <td>26</td>\n",
       "      <td>2.0</td>\n",
       "      <td>0.0</td>\n",
       "      <td>1.0</td>\n",
       "      <td>Train</td>\n",
       "    </tr>\n",
       "  </tbody>\n",
       "</table>\n",
       "</div>"
      ],
      "text/plain": [
       "   Item_Fat_Content  Item_MRP  Item_Outlet_Sales  Item_Type  Item_Visibility  \\\n",
       "0               0.0  249.8092          3735.1380        4.0         0.016047   \n",
       "1               1.0   48.2692           443.4228       14.0         0.019278   \n",
       "2               0.0  141.6180          2097.2700       10.0         0.016760   \n",
       "3               1.0  182.0950           732.3800        6.0         0.000000   \n",
       "4               0.0   53.8614           994.7052        9.0         0.000000   \n",
       "\n",
       "   Item_Weight  Outlet_Age_till_2013  Outlet_Location_Type  Outlet_Size  \\\n",
       "0         9.30                    14                   0.0          1.0   \n",
       "1         5.92                     4                   2.0          1.0   \n",
       "2        17.50                    14                   0.0          1.0   \n",
       "3        19.20                    15                   2.0          1.0   \n",
       "4         8.93                    26                   2.0          0.0   \n",
       "\n",
       "   Outlet_Type   Temp  \n",
       "0          1.0  Train  \n",
       "1          2.0  Train  \n",
       "2          1.0  Train  \n",
       "3          0.0  Train  \n",
       "4          1.0  Train  "
      ]
     },
     "execution_count": 502,
     "metadata": {},
     "output_type": "execute_result"
    }
   ],
   "source": [
    "df.head()"
   ]
  },
  {
   "cell_type": "code",
   "execution_count": 503,
   "metadata": {},
   "outputs": [
    {
     "data": {
      "text/html": [
       "<div>\n",
       "<style scoped>\n",
       "    .dataframe tbody tr th:only-of-type {\n",
       "        vertical-align: middle;\n",
       "    }\n",
       "\n",
       "    .dataframe tbody tr th {\n",
       "        vertical-align: top;\n",
       "    }\n",
       "\n",
       "    .dataframe thead th {\n",
       "        text-align: right;\n",
       "    }\n",
       "</style>\n",
       "<table border=\"1\" class=\"dataframe\">\n",
       "  <thead>\n",
       "    <tr style=\"text-align: right;\">\n",
       "      <th></th>\n",
       "      <th>Item_MRP</th>\n",
       "      <th>Item_Visibility</th>\n",
       "      <th>Item_Weight</th>\n",
       "      <th>Outlet_Age_till_2013</th>\n",
       "    </tr>\n",
       "  </thead>\n",
       "  <tbody>\n",
       "    <tr>\n",
       "      <td>count</td>\n",
       "      <td>14204.000000</td>\n",
       "      <td>14204.000000</td>\n",
       "      <td>14204.000000</td>\n",
       "      <td>14204.000000</td>\n",
       "    </tr>\n",
       "    <tr>\n",
       "      <td>mean</td>\n",
       "      <td>141.004977</td>\n",
       "      <td>0.065953</td>\n",
       "      <td>12.792854</td>\n",
       "      <td>15.169319</td>\n",
       "    </tr>\n",
       "    <tr>\n",
       "      <td>std</td>\n",
       "      <td>62.086938</td>\n",
       "      <td>0.051459</td>\n",
       "      <td>4.234226</td>\n",
       "      <td>8.371664</td>\n",
       "    </tr>\n",
       "    <tr>\n",
       "      <td>min</td>\n",
       "      <td>31.290000</td>\n",
       "      <td>0.000000</td>\n",
       "      <td>4.555000</td>\n",
       "      <td>4.000000</td>\n",
       "    </tr>\n",
       "    <tr>\n",
       "      <td>25%</td>\n",
       "      <td>94.012000</td>\n",
       "      <td>0.027036</td>\n",
       "      <td>9.300000</td>\n",
       "      <td>9.000000</td>\n",
       "    </tr>\n",
       "    <tr>\n",
       "      <td>50%</td>\n",
       "      <td>142.247000</td>\n",
       "      <td>0.054021</td>\n",
       "      <td>12.792854</td>\n",
       "      <td>14.000000</td>\n",
       "    </tr>\n",
       "    <tr>\n",
       "      <td>75%</td>\n",
       "      <td>185.855600</td>\n",
       "      <td>0.094037</td>\n",
       "      <td>16.000000</td>\n",
       "      <td>26.000000</td>\n",
       "    </tr>\n",
       "    <tr>\n",
       "      <td>max</td>\n",
       "      <td>266.888400</td>\n",
       "      <td>0.328391</td>\n",
       "      <td>21.350000</td>\n",
       "      <td>28.000000</td>\n",
       "    </tr>\n",
       "  </tbody>\n",
       "</table>\n",
       "</div>"
      ],
      "text/plain": [
       "           Item_MRP  Item_Visibility   Item_Weight  Outlet_Age_till_2013\n",
       "count  14204.000000     14204.000000  14204.000000          14204.000000\n",
       "mean     141.004977         0.065953     12.792854             15.169319\n",
       "std       62.086938         0.051459      4.234226              8.371664\n",
       "min       31.290000         0.000000      4.555000              4.000000\n",
       "25%       94.012000         0.027036      9.300000              9.000000\n",
       "50%      142.247000         0.054021     12.792854             14.000000\n",
       "75%      185.855600         0.094037     16.000000             26.000000\n",
       "max      266.888400         0.328391     21.350000             28.000000"
      ]
     },
     "execution_count": 503,
     "metadata": {},
     "output_type": "execute_result"
    }
   ],
   "source": [
    "#statistical summary of numerical columns\n",
    "df[['Item_MRP', 'Item_Visibility', 'Item_Weight', 'Outlet_Age_till_2013']].describe()"
   ]
  },
  {
   "cell_type": "markdown",
   "metadata": {},
   "source": [
    "### Insight Obtained from this Table :"
   ]
  },
  {
   "cell_type": "markdown",
   "metadata": {},
   "source": [
    "Item weight columns is having lot of difference between 75th percentile and max, so there are outliers below lower whisker in all colmumns"
   ]
  },
  {
   "cell_type": "markdown",
   "metadata": {},
   "source": [
    "Mean and median are almost same all column,so the data might be normal distributed"
   ]
  },
  {
   "cell_type": "markdown",
   "metadata": {},
   "source": [
    "There are no null values in any columns"
   ]
  },
  {
   "cell_type": "code",
   "execution_count": 504,
   "metadata": {},
   "outputs": [
    {
     "data": {
      "text/plain": [
       "Item_MRP                0.130728\n",
       "Item_Visibility         1.195175\n",
       "Item_Weight             0.111314\n",
       "Outlet_Age_till_2013    0.396465\n",
       "dtype: float64"
      ]
     },
     "execution_count": 504,
     "metadata": {},
     "output_type": "execute_result"
    }
   ],
   "source": [
    "df[['Item_MRP', 'Item_Visibility', 'Item_Weight', 'Outlet_Age_till_2013']].skew()"
   ]
  },
  {
   "cell_type": "markdown",
   "metadata": {},
   "source": [
    "Item_Visibility is not in skewness range -0.5 to +0.5"
   ]
  },
  {
   "cell_type": "code",
   "execution_count": 505,
   "metadata": {},
   "outputs": [
    {
     "data": {
      "text/html": [
       "<div>\n",
       "<style scoped>\n",
       "    .dataframe tbody tr th:only-of-type {\n",
       "        vertical-align: middle;\n",
       "    }\n",
       "\n",
       "    .dataframe tbody tr th {\n",
       "        vertical-align: top;\n",
       "    }\n",
       "\n",
       "    .dataframe thead th {\n",
       "        text-align: right;\n",
       "    }\n",
       "</style>\n",
       "<table border=\"1\" class=\"dataframe\">\n",
       "  <thead>\n",
       "    <tr style=\"text-align: right;\">\n",
       "      <th></th>\n",
       "      <th>Item_MRP</th>\n",
       "      <th>Item_Visibility</th>\n",
       "      <th>Item_Weight</th>\n",
       "      <th>Outlet_Age_till_2013</th>\n",
       "      <th>Item_Outlet_Sales</th>\n",
       "    </tr>\n",
       "  </thead>\n",
       "  <tbody>\n",
       "    <tr>\n",
       "      <td>Item_MRP</td>\n",
       "      <td>1.000000</td>\n",
       "      <td>-0.006351</td>\n",
       "      <td>0.033002</td>\n",
       "      <td>-0.000141</td>\n",
       "      <td>0.567574</td>\n",
       "    </tr>\n",
       "    <tr>\n",
       "      <td>Item_Visibility</td>\n",
       "      <td>-0.006351</td>\n",
       "      <td>1.000000</td>\n",
       "      <td>-0.013641</td>\n",
       "      <td>0.083678</td>\n",
       "      <td>-0.128625</td>\n",
       "    </tr>\n",
       "    <tr>\n",
       "      <td>Item_Weight</td>\n",
       "      <td>0.033002</td>\n",
       "      <td>-0.013641</td>\n",
       "      <td>1.000000</td>\n",
       "      <td>-0.000462</td>\n",
       "      <td>0.011083</td>\n",
       "    </tr>\n",
       "    <tr>\n",
       "      <td>Outlet_Age_till_2013</td>\n",
       "      <td>-0.000141</td>\n",
       "      <td>0.083678</td>\n",
       "      <td>-0.000462</td>\n",
       "      <td>1.000000</td>\n",
       "      <td>0.049135</td>\n",
       "    </tr>\n",
       "    <tr>\n",
       "      <td>Item_Outlet_Sales</td>\n",
       "      <td>0.567574</td>\n",
       "      <td>-0.128625</td>\n",
       "      <td>0.011083</td>\n",
       "      <td>0.049135</td>\n",
       "      <td>1.000000</td>\n",
       "    </tr>\n",
       "  </tbody>\n",
       "</table>\n",
       "</div>"
      ],
      "text/plain": [
       "                      Item_MRP  Item_Visibility  Item_Weight  \\\n",
       "Item_MRP              1.000000        -0.006351     0.033002   \n",
       "Item_Visibility      -0.006351         1.000000    -0.013641   \n",
       "Item_Weight           0.033002        -0.013641     1.000000   \n",
       "Outlet_Age_till_2013 -0.000141         0.083678    -0.000462   \n",
       "Item_Outlet_Sales     0.567574        -0.128625     0.011083   \n",
       "\n",
       "                      Outlet_Age_till_2013  Item_Outlet_Sales  \n",
       "Item_MRP                         -0.000141           0.567574  \n",
       "Item_Visibility                   0.083678          -0.128625  \n",
       "Item_Weight                      -0.000462           0.011083  \n",
       "Outlet_Age_till_2013              1.000000           0.049135  \n",
       "Item_Outlet_Sales                 0.049135           1.000000  "
      ]
     },
     "execution_count": 505,
     "metadata": {},
     "output_type": "execute_result"
    }
   ],
   "source": [
    "corr_matrix  = df[['Item_MRP', 'Item_Visibility', 'Item_Weight', 'Outlet_Age_till_2013','Item_Outlet_Sales']].corr()\n",
    "corr_matrix"
   ]
  },
  {
   "cell_type": "markdown",
   "metadata": {},
   "source": [
    "item_mrp is having good positive correlation with target column"
   ]
  },
  {
   "cell_type": "code",
   "execution_count": 506,
   "metadata": {},
   "outputs": [
    {
     "data": {
      "image/png": "[encoded data removed]",
      "text/plain": [
       "<Figure size 720x432 with 2 Axes>"
      ]
     },
     "metadata": {
      "needs_background": "light"
     },
     "output_type": "display_data"
    }
   ],
   "source": [
    "#correlation\n",
    "fig = plt.figure(figsize=(10,6))\n",
    "cor_matrix = df.corr(method='pearson')\n",
    "sns.heatmap(cor_matrix,annot = True,cmap = 'Blues')\n",
    "plt.show()"
   ]
  },
  {
   "cell_type": "code",
   "execution_count": 507,
   "metadata": {},
   "outputs": [
    {
     "data": {
      "text/plain": [
       "Item_Outlet_Sales       1.000000\n",
       "Item_MRP                0.567574\n",
       "Outlet_Type             0.401522\n",
       "Outlet_Location_Type    0.089367\n",
       "Outlet_Age_till_2013    0.049135\n",
       "Item_Fat_Content        0.018719\n",
       "Item_Type               0.017048\n",
       "Item_Weight             0.011083\n",
       "Outlet_Size            -0.086182\n",
       "Item_Visibility        -0.128625\n",
       "Name: Item_Outlet_Sales, dtype: float64"
      ]
     },
     "execution_count": 507,
     "metadata": {},
     "output_type": "execute_result"
    }
   ],
   "source": [
    "#lets check for the correlation of input columns with Target Variable\n",
    "cor_matrix['Item_Outlet_Sales'].sort_values(ascending = False)"
   ]
  },
  {
   "cell_type": "markdown",
   "metadata": {},
   "source": [
    "Item_MRP  is having highest positive correlation with target variable"
   ]
  },
  {
   "cell_type": "markdown",
   "metadata": {},
   "source": [
    "## Data PreProcessing"
   ]
  },
  {
   "cell_type": "markdown",
   "metadata": {},
   "source": [
    "### Outlier Removal :"
   ]
  },
  {
   "cell_type": "code",
   "execution_count": 508,
   "metadata": {},
   "outputs": [
    {
     "data": {
      "text/plain": [
       "Index(['Item_Fat_Content', 'Item_MRP', 'Item_Outlet_Sales', 'Item_Type',\n",
       "       'Item_Visibility', 'Item_Weight', 'Outlet_Age_till_2013',\n",
       "       'Outlet_Location_Type', 'Outlet_Size', 'Outlet_Type', 'Temp'],\n",
       "      dtype='object')"
      ]
     },
     "execution_count": 508,
     "metadata": {},
     "output_type": "execute_result"
    }
   ],
   "source": [
    "df.columns"
   ]
  },
  {
   "cell_type": "code",
   "execution_count": 509,
   "metadata": {},
   "outputs": [],
   "source": [
    "Numerical_columns = ['Item_MRP', 'Item_Visibility', 'Item_Weight', 'Outlet_Age_till_2013']"
   ]
  },
  {
   "cell_type": "code",
   "execution_count": 510,
   "metadata": {},
   "outputs": [
    {
     "data": {
      "image/png": "[encoded data removed]",
      "text/plain": [
       "<Figure size 1080x1440 with 4 Axes>"
      ]
     },
     "metadata": {
      "needs_background": "light"
     },
     "output_type": "display_data"
    }
   ],
   "source": [
    "#outliers using box plot\n",
    "# lets check for outliers among all the columns\n",
    "collist = Numerical_columns\n",
    "ncol = 4\n",
    "nrows = 5\n",
    "plt.figure(figsize= (15,5*ncol))\n",
    "for i in range(0,len(collist)):\n",
    "    plt.subplot(nrows,ncol,i+1)\n",
    "    sns.boxplot(df[collist[i]],color='brown',orient = 'v')\n",
    "    plt.tight_layout()"
   ]
  },
  {
   "cell_type": "markdown",
   "metadata": {},
   "source": [
    "Only Item Visibility column is having outliers "
   ]
  },
  {
   "cell_type": "code",
   "execution_count": 511,
   "metadata": {},
   "outputs": [
    {
     "data": {
      "image/png": "[encoded data removed]",
      "text/plain": [
       "<Figure size 1080x1440 with 4 Axes>"
      ]
     },
     "metadata": {
      "needs_background": "light"
     },
     "output_type": "display_data"
    }
   ],
   "source": [
    "# Lets check the distribution\n",
    "collist = Numerical_columns\n",
    "ncol = 4\n",
    "nrows = 10\n",
    "plt.figure(figsize= (15,20))\n",
    "for i in range(0,len(collist)):\n",
    "    plt.subplot(nrows,ncol,i+1)\n",
    "    sns.distplot(df[collist[i]],color='brown')\n",
    "    plt.tight_layout()"
   ]
  },
  {
   "cell_type": "markdown",
   "metadata": {},
   "source": [
    "Item visbility column is Right skewed"
   ]
  },
  {
   "cell_type": "code",
   "execution_count": 512,
   "metadata": {},
   "outputs": [
    {
     "data": {
      "text/plain": [
       "Item_Fat_Content        0.613645\n",
       "Item_MRP                0.130728\n",
       "Item_Outlet_Sales       1.177531\n",
       "Item_Type               0.099574\n",
       "Item_Visibility         1.195175\n",
       "Item_Weight             0.111314\n",
       "Outlet_Age_till_2013    0.396465\n",
       "Outlet_Location_Type   -0.209053\n",
       "Outlet_Size            -0.087077\n",
       "Outlet_Type             0.927344\n",
       "dtype: float64"
      ]
     },
     "execution_count": 512,
     "metadata": {},
     "output_type": "execute_result"
    }
   ],
   "source": [
    "df.skew()"
   ]
  },
  {
   "cell_type": "code",
   "execution_count": 513,
   "metadata": {},
   "outputs": [],
   "source": [
    "#Function of outlier Removal when data is not normal distributed or Right skewed\n",
    "def outliers_IQR3(data_frame,feature_name):\n",
    "    IQR  =data_frame[feature_name].quantile(0.75)-data_frame[feature_name].quantile(0.25)\n",
    "    lower_boundary = data_frame[feature_name].quantile(0.25) - (IQR * 3)\n",
    "    upper_boundary = data_frame[feature_name].quantile(0.75) + (IQR * 3)\n",
    "    df.loc[df[feature_name] >= upper_boundary,feature_name]= upper_boundary\n",
    "    df.loc[df[feature_name] <= lower_boundary,feature_name]= lower_boundary"
   ]
  },
  {
   "cell_type": "code",
   "execution_count": 514,
   "metadata": {},
   "outputs": [],
   "source": [
    "##Function of outlier Removal when data looks like normal distributed.\n",
    "def outliers_normally(data_frame,feature_name):\n",
    "    lower_boundary = data_frame[feature_name].mean() - 3*data_frame[feature_name].std()\n",
    "    upper_boundary = data_frame[feature_name].mean() + 3*data_frame[feature_name].std()\n",
    "    df.loc[df[feature_name] >= upper_boundary,feature_name]= upper_boundary\n",
    "    df.loc[df[feature_name] <= lower_boundary,feature_name]= lower_boundary"
   ]
  },
  {
   "cell_type": "code",
   "execution_count": 515,
   "metadata": {},
   "outputs": [
    {
     "data": {
      "text/plain": [
       "(14031, 11)"
      ]
     },
     "execution_count": 515,
     "metadata": {},
     "output_type": "execute_result"
    }
   ],
   "source": [
    "z = np.abs(zscore(df[Numerical_columns]))\n",
    "df_new  = df[(z<3).all(axis=1)]\n",
    "df_new.shape"
   ]
  },
  {
   "cell_type": "code",
   "execution_count": 516,
   "metadata": {},
   "outputs": [
    {
     "data": {
      "text/plain": [
       "(14204, 11)"
      ]
     },
     "execution_count": 516,
     "metadata": {},
     "output_type": "execute_result"
    }
   ],
   "source": [
    "df.shape"
   ]
  },
  {
   "cell_type": "markdown",
   "metadata": {},
   "source": [
    "Data Loss is very less"
   ]
  },
  {
   "cell_type": "markdown",
   "metadata": {},
   "source": [
    "### Skewness Reduction"
   ]
  },
  {
   "cell_type": "code",
   "execution_count": 517,
   "metadata": {},
   "outputs": [],
   "source": [
    "#lets devide X and Y before handing skewness\n",
    "Y = df_new['Item_Outlet_Sales']\n",
    "X = df_new.drop('Item_Outlet_Sales',axis = 1)"
   ]
  },
  {
   "cell_type": "code",
   "execution_count": 518,
   "metadata": {},
   "outputs": [
    {
     "data": {
      "text/plain": [
       "Item_MRP                0.130743\n",
       "Item_Visibility         0.796921\n",
       "Item_Weight             0.110310\n",
       "Outlet_Age_till_2013    0.409922\n",
       "dtype: float64"
      ]
     },
     "execution_count": 518,
     "metadata": {},
     "output_type": "execute_result"
    }
   ],
   "source": [
    "X[Numerical_columns].skew()"
   ]
  },
  {
   "cell_type": "code",
   "execution_count": 519,
   "metadata": {},
   "outputs": [
    {
     "data": {
      "text/plain": [
       "Item_Fat_Content        0.618503\n",
       "Item_MRP                0.130743\n",
       "Item_Type               0.097428\n",
       "Item_Visibility         0.111719\n",
       "Item_Weight             0.110310\n",
       "Outlet_Age_till_2013    0.409922\n",
       "Outlet_Location_Type   -0.213255\n",
       "Outlet_Size            -0.082716\n",
       "Outlet_Type             0.948947\n",
       "dtype: float64"
      ]
     },
     "execution_count": 519,
     "metadata": {},
     "output_type": "execute_result"
    }
   ],
   "source": [
    "#Reducing the skewness using power transform method for all the columns whose skewness is out of range -0.5 to +0.5\n",
    "collist = Numerical_columns\n",
    "for i in range(len(collist)):\n",
    "    if X[collist[i]].skew() > 0.5:\n",
    "        arr = X[collist[i]].values\n",
    "        arr = arr.reshape(-1,1)\n",
    "        arr = power_transform(arr)\n",
    "        X[collist[i]] = arr \n",
    "    elif X[collist[i]].skew() < -0.5 :\n",
    "        arr = X[collist[i]].values\n",
    "        arr = arr.reshape(-1,1)\n",
    "        arr = power_transform(arr)\n",
    "        X[collist[i]] = arr    \n",
    "    else:\n",
    "        pass\n",
    "X.skew()"
   ]
  },
  {
   "cell_type": "markdown",
   "metadata": {},
   "source": [
    "Skewness is in range for all numerical Columns"
   ]
  },
  {
   "cell_type": "code",
   "execution_count": 520,
   "metadata": {},
   "outputs": [
    {
     "data": {
      "image/png": "[encoded data removed]",
      "text/plain": [
       "<Figure size 1080x1440 with 4 Axes>"
      ]
     },
     "metadata": {
      "needs_background": "light"
     },
     "output_type": "display_data"
    }
   ],
   "source": [
    "#Now lets check for outliers after data preprocessing\n",
    "nrows = 5\n",
    "plt.figure(figsize= (15,5*ncol))\n",
    "for i in range(0,len(collist)):\n",
    "    plt.subplot(nrows,ncol,i+1)\n",
    "    sns.boxplot(X[collist[i]],color='brown',orient = 'v')\n",
    "    plt.tight_layout()"
   ]
  },
  {
   "cell_type": "markdown",
   "metadata": {},
   "source": [
    "We can see there are no outliers in any  Numerical columns, All the other columns are transformed with encoding"
   ]
  },
  {
   "cell_type": "code",
   "execution_count": 521,
   "metadata": {},
   "outputs": [
    {
     "data": {
      "image/png": "[encoded data removed]",
      "text/plain": [
       "<Figure size 1080x1440 with 4 Axes>"
      ]
     },
     "metadata": {
      "needs_background": "light"
     },
     "output_type": "display_data"
    }
   ],
   "source": [
    "# Lets check the distribution after data preprocessing\n",
    "collist = Numerical_columns\n",
    "ncol = 4\n",
    "nrows = 10\n",
    "plt.figure(figsize= (15,20))\n",
    "for i in range(0,len(collist)):\n",
    "    plt.subplot(nrows,ncol,i+1)\n",
    "    sns.distplot(X[collist[i]],color='brown')\n",
    "    plt.tight_layout()"
   ]
  },
  {
   "cell_type": "markdown",
   "metadata": {},
   "source": [
    "We can see every column is normal distributed in any  Numerical columns, All the other columns are transformed with encoding"
   ]
  },
  {
   "cell_type": "markdown",
   "metadata": {},
   "source": [
    "Data Preprocessing is Done"
   ]
  },
  {
   "cell_type": "markdown",
   "metadata": {},
   "source": [
    "## Let split our data"
   ]
  },
  {
   "cell_type": "code",
   "execution_count": 522,
   "metadata": {},
   "outputs": [],
   "source": [
    "#Lets get out Original Train and Test Dataset provided in the project\n",
    "X_train_original = X.loc[df[\"Temp\"] == \"Train\"]\n",
    "X_test_original = X.loc[df[\"Temp\"]==\"Test\"]\n",
    "#X_train_original.reset_index(drop =True, inplace=True)\n",
    "#X_test_original.reset_index(drop = True, inplace=True)"
   ]
  },
  {
   "cell_type": "code",
   "execution_count": 523,
   "metadata": {},
   "outputs": [
    {
     "data": {
      "text/plain": [
       "(8428,)"
      ]
     },
     "execution_count": 523,
     "metadata": {},
     "output_type": "execute_result"
    }
   ],
   "source": [
    "#lets drop the null values in the Y column\n",
    "Y.dropna(inplace=True)\n",
    "Y.shape"
   ]
  },
  {
   "cell_type": "code",
   "execution_count": 524,
   "metadata": {},
   "outputs": [
    {
     "data": {
      "text/plain": [
       "(8428, 10)"
      ]
     },
     "execution_count": 524,
     "metadata": {},
     "output_type": "execute_result"
    }
   ],
   "source": [
    "#Original X_train dataset\n",
    "X_train_original.shape"
   ]
  },
  {
   "cell_type": "code",
   "execution_count": 525,
   "metadata": {},
   "outputs": [
    {
     "data": {
      "text/plain": [
       "(5603, 10)"
      ]
     },
     "execution_count": 525,
     "metadata": {},
     "output_type": "execute_result"
    }
   ],
   "source": [
    "#Original X_test dataset\n",
    "X_test_original.shape"
   ]
  },
  {
   "cell_type": "code",
   "execution_count": 526,
   "metadata": {},
   "outputs": [
    {
     "data": {
      "text/plain": [
       "0"
      ]
     },
     "execution_count": 526,
     "metadata": {},
     "output_type": "execute_result"
    }
   ],
   "source": [
    "#no null values in this series\n",
    "Y.isnull().sum()"
   ]
  },
  {
   "cell_type": "code",
   "execution_count": 527,
   "metadata": {},
   "outputs": [],
   "source": [
    "# Original X train column from 0th row to 8422th row\n",
    "X_train_original.drop('Temp',axis = 1,inplace  =True)"
   ]
  },
  {
   "cell_type": "code",
   "execution_count": 528,
   "metadata": {},
   "outputs": [],
   "source": [
    "# Original X test column from 8523rd row to 14203rd row\n",
    "X_test_original.drop('Temp',axis = 1,inplace  =True)"
   ]
  },
  {
   "cell_type": "code",
   "execution_count": 529,
   "metadata": {},
   "outputs": [],
   "source": [
    "#lets Ignore thos index now\n",
    "X_train_original.reset_index(drop =True, inplace=True)\n",
    "X_test_original.reset_index(drop = True, inplace=True)"
   ]
  },
  {
   "cell_type": "markdown",
   "metadata": {},
   "source": [
    "### We have provided with X_test data, but Y_test (Label) is not provided"
   ]
  },
  {
   "cell_type": "markdown",
   "metadata": {},
   "source": [
    "So lets use our X_train_original and Y_train_Original  as X and Y for model selection"
   ]
  },
  {
   "cell_type": "markdown",
   "metadata": {},
   "source": [
    "## Best random state"
   ]
  },
  {
   "cell_type": "code",
   "execution_count": 530,
   "metadata": {},
   "outputs": [
    {
     "name": "stdout",
     "output_type": "stream",
     "text": [
      "Best r2 score is 0.548266835984361 on random state 115\n"
     ]
    }
   ],
   "source": [
    "max_r2score = 0\n",
    "rand_state = 0\n",
    "for i in range(1,200):\n",
    "    x_train,x_test,y_train,y_test = train_test_split(X_train_original,Y,test_size=.22,random_state= i )\n",
    "    lr = LinearRegression()\n",
    "    lr.fit(x_train,y_train)\n",
    "    pred = lr.predict(x_test)\n",
    "    r2 = r2_score(y_test,pred)\n",
    "    if r2 > max_r2score:\n",
    "        max_r2score = r2\n",
    "        rand_state = i\n",
    "print('Best r2 score is {} on random state {}'.format(max_r2score,rand_state)) "
   ]
  },
  {
   "cell_type": "code",
   "execution_count": 531,
   "metadata": {},
   "outputs": [
    {
     "name": "stdout",
     "output_type": "stream",
     "text": [
      "We got our best randoms sate as : 115\n"
     ]
    }
   ],
   "source": [
    "print('We got our best randoms sate as :',rand_state)"
   ]
  },
  {
   "cell_type": "code",
   "execution_count": 532,
   "metadata": {},
   "outputs": [],
   "source": [
    "#Lets split for train and test data\n",
    "x_train,x_test,y_train,y_test = train_test_split(X_train_original,Y,test_size=.22,random_state= 115 )"
   ]
  },
  {
   "cell_type": "markdown",
   "metadata": {},
   "source": [
    "## Model selection :"
   ]
  },
  {
   "cell_type": "code",
   "execution_count": 533,
   "metadata": {},
   "outputs": [],
   "source": [
    "#lets Choose Among this Five Models\n",
    "lr = LinearRegression()\n",
    "svr = SVR()\n",
    "knn = KNeighborsRegressor(n_neighbors=5)\n",
    "rf = RandomForestRegressor()\n",
    "ada = AdaBoostRegressor()"
   ]
  },
  {
   "cell_type": "code",
   "execution_count": 534,
   "metadata": {},
   "outputs": [
    {
     "name": "stdout",
     "output_type": "stream",
     "text": [
      "\n",
      "\n",
      "LinearRegression()\n",
      "Scores :\n",
      "r2 score: 0.548266835984361\n",
      "Cross Val score : 0.5028509968868712\n",
      "Error :\n",
      "mean absolute error : 896.2920140132283\n",
      "mean squared error :  1438178.4525381764\n",
      "root mean squared error : 1199.2407817190742\n",
      "Difference :\n",
      "Diffrence between cross val score and root mean squared error is : 0.23759943088284863\n",
      "\n",
      "\n",
      "KNeighborsRegressor()\n",
      "Scores :\n",
      "r2 score: 0.4769927083932535\n",
      "Cross Val score : 0.3920117970008836\n",
      "Error :\n",
      "mean absolute error : 933.8869721832883\n",
      "mean squared error :  1665093.1948913387\n",
      "root mean squared error : 1290.384901837951\n",
      "Difference :\n",
      "Diffrence between cross val score and root mean squared error is : 0.2986347901862634\n",
      "\n",
      "\n",
      "SVR()\n",
      "Scores :\n",
      "r2 score: 0.18315712480556323\n",
      "Cross Val score : 0.1928333426441407\n",
      "Error :\n",
      "mean absolute error : 1174.9768164897202\n",
      "mean squared error :  2600574.6661834624\n",
      "root mean squared error : 1612.6297362331698\n",
      "Difference :\n",
      "Diffrence between cross val score and root mean squared error is : 0.23513525994904394\n",
      "\n",
      "\n",
      "RandomForestRegressor()\n",
      "Scores :\n",
      "r2 score: 0.6002235892188941\n",
      "Cross Val score : 0.5407322208624261\n",
      "Error :\n",
      "mean absolute error : 795.9583403008086\n",
      "mean squared error :  1272764.2458381304\n",
      "root mean squared error : 1128.1685360965046\n",
      "Difference :\n",
      "Diffrence between cross val score and root mean squared error is : 0.2340087611560121\n",
      "\n",
      "\n",
      "AdaBoostRegressor()\n",
      "Scores :\n",
      "r2 score: 0.5633224117991373\n",
      "Cross Val score : 0.4684929707190312\n",
      "Error :\n",
      "mean absolute error : 901.5533248258412\n",
      "mean squared error :  1390246.1631864547\n",
      "root mean squared error : 1179.0870040783482\n",
      "Difference :\n",
      "Diffrence between cross val score and root mean squared error is : 0.28205510355678587\n"
     ]
    }
   ],
   "source": [
    "#checking each model with Cross val score\n",
    "model_list = [lr,knn,svr,rf,ada]\n",
    "least_difference = []\n",
    "for m in model_list:\n",
    "    m.fit(x_train,y_train)\n",
    "    pred = m.predict(x_test)\n",
    "    cvs = cross_val_score(m,X_train_original,Y,cv =5)\n",
    "    print('\\n')\n",
    "    print(m)\n",
    "    print('Scores :')\n",
    "    print('r2 score:',r2_score(y_test,pred))\n",
    "    print('Cross Val score :',cvs.mean())\n",
    "    print('Error :')\n",
    "    print('mean absolute error :',mean_absolute_error(y_test,pred))\n",
    "    print('mean squared error : ', mean_squared_error(y_test,pred))\n",
    "    print('root mean squared error :',np.sqrt(mean_squared_error(y_test,pred)))\n",
    "    print('Difference :')\n",
    "    difference = np.sqrt(r2_score(y_test,pred))-cvs.mean()\n",
    "    print('Diffrence between cross val score and root mean squared error is :',difference)\n",
    "    least_difference.append((m,difference))"
   ]
  },
  {
   "cell_type": "code",
   "execution_count": 535,
   "metadata": {},
   "outputs": [
    {
     "data": {
      "text/plain": [
       "[(LinearRegression(), 0.23759943088284863),\n",
       " (KNeighborsRegressor(), 0.2986347901862634),\n",
       " (SVR(), 0.23513525994904394),\n",
       " (RandomForestRegressor(), 0.2340087611560121),\n",
       " (AdaBoostRegressor(), 0.28205510355678587)]"
      ]
     },
     "execution_count": 535,
     "metadata": {},
     "output_type": "execute_result"
    }
   ],
   "source": [
    "least_difference"
   ]
  },
  {
   "cell_type": "markdown",
   "metadata": {},
   "source": [
    "Lets choose our final model as Rabdom Forest Regressor, because it is having least diferrence"
   ]
  },
  {
   "cell_type": "markdown",
   "metadata": {},
   "source": [
    "## Hyper Parameter Tuning"
   ]
  },
  {
   "cell_type": "code",
   "execution_count": 536,
   "metadata": {},
   "outputs": [],
   "source": [
    "#lets use random forest regressor\n",
    "parameters = {'n_estimators' : [100,200,300,400,500,600,700,800],'criterion':['mse','mae'],'max_depth':[3,4,5,6,7,8,10,25],\n",
    "             'min_samples_split':[2,5,8,10,12,18],'max_features':['auto','sqrt'],'min_samples_leaf':[1,3,5,6,7]}\n",
    "gsvrf = RandomizedSearchCV(rf, parameters, cv=5,scoring=\"r2\")\n",
    "gsvrf.fit(x_train,y_train)\n",
    "gsvrf.best_score_"
   ]
  },
  {
   "cell_type": "markdown",
   "metadata": {},
   "source": [
    "default values is only giving better r2 score, so lets choose default values"
   ]
  },
  {
   "cell_type": "markdown",
   "metadata": {},
   "source": [
    "## Creating a Final Model as Random Forest:"
   ]
  },
  {
   "cell_type": "code",
   "execution_count": 537,
   "metadata": {},
   "outputs": [
    {
     "name": "stdout",
     "output_type": "stream",
     "text": [
      "Score\n",
      "R2_score : 0.5972022531692986\n",
      "\n",
      "\n",
      "Error :\n",
      "mean absolute error : 800.8537003040432\n",
      "mean squared error :  1282383.243845225\n"
     ]
    }
   ],
   "source": [
    "final_mod = RandomForestRegressor()\n",
    "final_mod.fit(x_train,y_train)\n",
    "final_pred = final_mod.predict(x_test)\n",
    "cvs = cross_val_score(m,X_train_original,Y,cv =5)\n",
    "print('Score')\n",
    "print('R2_score :',r2_score(y_test,final_pred))\n",
    "print('\\n')\n",
    "print('Error :')\n",
    "print('mean absolute error :',mean_absolute_error(y_test,final_pred))\n",
    "print('mean squared error : ', mean_squared_error(y_test,final_pred))"
   ]
  },
  {
   "cell_type": "code",
   "execution_count": 538,
   "metadata": {},
   "outputs": [
    {
     "data": {
      "image/png": "[encoded data removed]",
      "text/plain": [
       "<Figure size 432x288 with 1 Axes>"
      ]
     },
     "metadata": {
      "needs_background": "light"
     },
     "output_type": "display_data"
    }
   ],
   "source": [
    "plt.figure(figsize=(6,4))\n",
    "plt.scatter(x = y_test,y = final_pred,color = 'r')\n",
    "plt.plot(y_test,y_test,color = 'b')\n",
    "plt.xlabel('Actual charges')\n",
    "plt.ylabel('Predicted charges')\n",
    "plt.title('RF Regressor')\n",
    "plt.show()"
   ]
  },
  {
   "cell_type": "markdown",
   "metadata": {},
   "source": [
    "Our data is very much spreded , so we are getting r2 score of only 60%"
   ]
  },
  {
   "cell_type": "markdown",
   "metadata": {},
   "source": [
    "## Now Lets Predict Our Original X_test_original"
   ]
  },
  {
   "cell_type": "code",
   "execution_count": 539,
   "metadata": {},
   "outputs": [
    {
     "name": "stdout",
     "output_type": "stream",
     "text": [
      "[1736.200002 1319.342622  782.128576 ... 1800.616152 4772.494348\n",
      " 1621.309554]\n"
     ]
    }
   ],
   "source": [
    "final_mod.fit(x_train,y_train)\n",
    "final_pred = final_mod.predict(X_test_original)\n",
    "print(final_pred)"
   ]
  },
  {
   "cell_type": "markdown",
   "metadata": {},
   "source": [
    "We don't have Original values for Y_test Predict the R2_score , meansquared error and absolute error"
   ]
  }
 ],
 "metadata": {
  "kernelspec": {
   "display_name": "Python 3",
   "language": "python",
   "name": "python3"
  },
  "language_info": {
   "codemirror_mode": {
    "name": "ipython",
    "version": 3
   },
   "file_extension": ".py",
   "mimetype": "text/x-python",
   "name": "python",
   "nbconvert_exporter": "python",
   "pygments_lexer": "ipython3",
   "version": "3.7.4"
  }
 },
 "nbformat": 4,
 "nbformat_minor": 2
}
